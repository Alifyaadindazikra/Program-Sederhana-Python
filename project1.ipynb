{
 "cells": [
  {
   "cell_type": "code",
   "execution_count": null,
   "metadata": {},
   "outputs": [],
   "source": [
    "nilai = 5\n",
    "if (nilai > 7):\n",
    "    print (\"kompeten\")\n",
    "else:\n",
    "    print(\"tidak kompeten\")"
   ]
  },
  {
   "cell_type": "code",
   "execution_count": null,
   "metadata": {},
   "outputs": [],
   "source": [
    "nilai = int(input(\"masukkan nilai :\"))\n",
    "if (nilai > 7):\n",
    "    print (\"kompeten\")\n",
    "else:\n",
    "    print(\"tidak kompeten\")"
   ]
  },
  {
   "cell_type": "code",
   "execution_count": 2,
   "metadata": {},
   "outputs": [
    {
     "name": "stdout",
     "output_type": "stream",
     "text": [
      "total belanja: 6000\n"
     ]
    }
   ],
   "source": [
    "belanja=int(input(\"Masukan Harga Barang:\"))\n",
    "diskon=int(input(\"masukan diskon tidak pakai %\"))\n",
    "total=int(belanja-(belanja*diskon/100))\n",
    "\n",
    "print(\"total belanja:\", total)"
   ]
  },
  {
   "cell_type": "code",
   "execution_count": 1,
   "metadata": {},
   "outputs": [
    {
     "name": "stdout",
     "output_type": "stream",
     "text": [
      "total belanja: 4000.0\n"
     ]
    }
   ],
   "source": [
    "belanja=float(input(\"Masukan Harga Barang:\"))\n",
    "diskon=float(input(\"masukan diskon tidak pakai %\"))\n",
    "total=float(belanja-(belanja*diskon/100))\n",
    "\n",
    "print(\"total belanja:\", total)"
   ]
  },
  {
   "cell_type": "code",
   "execution_count": 4,
   "metadata": {},
   "outputs": [
    {
     "name": "stdout",
     "output_type": "stream",
     "text": [
      "imt anda: 38\n"
     ]
    }
   ],
   "source": [
    "JK= str(input(\"masukan JK:\"))\n",
    "usia=float(input(\"masukan usia:\"))\n",
    "tb=float(input(\"masukan tinggi badan:\"))\n",
    "bb=float(input(\"masukkan berat badan:\"))\n",
    "imt=round(bb/(tb/100))\n",
    "\n",
    "\n",
    "print(\"imt anda:\", imt )"
   ]
  }
 ],
 "metadata": {
  "kernelspec": {
   "display_name": "Python 3",
   "language": "python",
   "name": "python3"
  },
  "language_info": {
   "codemirror_mode": {
    "name": "ipython",
    "version": 3
   },
   "file_extension": ".py",
   "mimetype": "text/x-python",
   "name": "python",
   "nbconvert_exporter": "python",
   "pygments_lexer": "ipython3",
   "version": "3.11.2"
  },
  "orig_nbformat": 4,
  "vscode": {
   "interpreter": {
    "hash": "64924d34f5c95f261818ee0e41d58b43741dcf0b72677c10b726c1fe86046c0c"
   }
  }
 },
 "nbformat": 4,
 "nbformat_minor": 2
}
